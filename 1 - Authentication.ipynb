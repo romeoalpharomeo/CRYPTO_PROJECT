{
 "cells": [
  {
   "cell_type": "code",
   "execution_count": 4,
   "id": "5b7ae08f",
   "metadata": {},
   "outputs": [],
   "source": [
    "import tweepy\n",
    "import webbrowser\n",
    "import time"
   ]
  },
  {
   "cell_type": "code",
   "execution_count": 6,
   "id": "60242e9d",
   "metadata": {},
   "outputs": [],
   "source": [
    "consumer_key = \"b1FLZd98CvBR8ri8Vry1BjxtT\"\n",
    "consumer_secret = \"tOvCCPflJ2KodT27OfizxyLejuMfx2lkuoBMT5VXaRA6jupnyX\""
   ]
  },
  {
   "cell_type": "code",
   "execution_count": 7,
   "id": "7c143b8b",
   "metadata": {},
   "outputs": [],
   "source": [
    "callback_uri = 'oob'"
   ]
  },
  {
   "cell_type": "code",
   "execution_count": 10,
   "id": "610bddb1",
   "metadata": {},
   "outputs": [
    {
     "name": "stdout",
     "output_type": "stream",
     "text": [
      "https://api.twitter.com/oauth/authorize?oauth_token=s1v06QAAAAABP8dwAAABeZo0zB0\n"
     ]
    }
   ],
   "source": [
    "auth = tweepy.OAuthHandler(consumer_key, consumer_secret, callback_uri)\n",
    "redirect_url = auth.get_authorization_url()\n",
    "print(redirect_url)"
   ]
  },
  {
   "cell_type": "code",
   "execution_count": 9,
   "id": "c2bb992e",
   "metadata": {},
   "outputs": [],
   "source": []
  },
  {
   "cell_type": "code",
   "execution_count": 12,
   "id": "7e74a6a1",
   "metadata": {},
   "outputs": [
    {
     "data": {
      "text/plain": [
       "True"
      ]
     },
     "execution_count": 12,
     "metadata": {},
     "output_type": "execute_result"
    }
   ],
   "source": [
    "webbrowser.open(redirect_url)"
   ]
  },
  {
   "cell_type": "code",
   "execution_count": 13,
   "id": "27bb230e",
   "metadata": {},
   "outputs": [
    {
     "name": "stdout",
     "output_type": "stream",
     "text": [
      "Enter the pin value.3083027\n"
     ]
    }
   ],
   "source": [
    "user_pin_input = input(\"Enter the pin value.\")"
   ]
  },
  {
   "cell_type": "code",
   "execution_count": 14,
   "id": "ae0e6788",
   "metadata": {},
   "outputs": [
    {
     "data": {
      "text/plain": [
       "'3083027'"
      ]
     },
     "execution_count": 14,
     "metadata": {},
     "output_type": "execute_result"
    }
   ],
   "source": [
    "user_pin_input"
   ]
  },
  {
   "cell_type": "code",
   "execution_count": 15,
   "id": "7fd8359d",
   "metadata": {},
   "outputs": [
    {
     "data": {
      "text/plain": [
       "('1283212988611211275-vNz2EAzHoBP79XGafsd8rQgwCznCdf',\n",
       " 'oLuuIigJnA7HaowGrgw9wJuAU6rnpTbS5KJ8XgTCPgYm4')"
      ]
     },
     "execution_count": 15,
     "metadata": {},
     "output_type": "execute_result"
    }
   ],
   "source": [
    "auth.get_access_token(user_pin_input)"
   ]
  },
  {
   "cell_type": "code",
   "execution_count": 16,
   "id": "c04523f2",
   "metadata": {},
   "outputs": [
    {
     "name": "stdout",
     "output_type": "stream",
     "text": [
      "1283212988611211275-vNz2EAzHoBP79XGafsd8rQgwCznCdf oLuuIigJnA7HaowGrgw9wJuAU6rnpTbS5KJ8XgTCPgYm4\n"
     ]
    }
   ],
   "source": [
    "print(auth.access_token, auth.access_token_secret)"
   ]
  },
  {
   "cell_type": "code",
   "execution_count": 17,
   "id": "da30f455",
   "metadata": {},
   "outputs": [],
   "source": [
    "api = tweepy.API(auth)"
   ]
  },
  {
   "cell_type": "code",
   "execution_count": 26,
   "id": "d67dbd72",
   "metadata": {},
   "outputs": [],
   "source": [
    "me = api.me()"
   ]
  },
  {
   "cell_type": "code",
   "execution_count": 28,
   "id": "174fbba9",
   "metadata": {},
   "outputs": [
    {
     "name": "stdout",
     "output_type": "stream",
     "text": [
      "1283212988611211275-vNz2EAzHoBP79XGafsd8rQgwCznCdf\n"
     ]
    }
   ],
   "source": [
    "print(auth.access_token)"
   ]
  },
  {
   "cell_type": "code",
   "execution_count": 29,
   "id": "5eb754a8",
   "metadata": {},
   "outputs": [
    {
     "name": "stdout",
     "output_type": "stream",
     "text": [
      "ryan99643097\n"
     ]
    }
   ],
   "source": [
    "print(me.screen_name)"
   ]
  },
  {
   "cell_type": "code",
   "execution_count": null,
   "id": "5f960b84",
   "metadata": {},
   "outputs": [],
   "source": []
  }
 ],
 "metadata": {
  "kernelspec": {
   "display_name": "Python 3",
   "language": "python",
   "name": "python3"
  },
  "language_info": {
   "codemirror_mode": {
    "name": "ipython",
    "version": 3
   },
   "file_extension": ".py",
   "mimetype": "text/x-python",
   "name": "python",
   "nbconvert_exporter": "python",
   "pygments_lexer": "ipython3",
   "version": "3.9.4"
  }
 },
 "nbformat": 4,
 "nbformat_minor": 5
}
